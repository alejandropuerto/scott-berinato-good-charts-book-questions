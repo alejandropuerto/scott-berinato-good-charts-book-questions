{
 "cells": [
  {
   "cell_type": "markdown",
   "metadata": {},
   "source": [
    "# Good Charts\n",
    "### by Scott Berinato"
   ]
  },
  {
   "cell_type": "markdown",
   "metadata": {},
   "source": [
    "## Part 2: Create"
   ]
  },
  {
   "cell_type": "markdown",
   "metadata": {},
   "source": [
    "### Chapter 3: Two questions $\\Rightarrow$ Four types: A simple typology for chart making"
   ]
  },
  {
   "cell_type": "markdown",
   "metadata": {},
   "source": [
    "<ol>\n",
    "    <li><strong>What are the two questions we need to ask ourselves in order to define the type of visualization we want to use?</strong></li>\n",
    "        - Is the information conceptual or data-driven?<br>\n",
    "        - Am I declaring something or exploring something?\n",
    "    <li><strong>What generates a good declarative visualization?</strong></li>\n",
    "        Discussion.\n",
    "    <li><strong>What are the four types of visualization according to the questions and the book?</strong></li>\n",
    "        - Idea illustration<br>\n",
    "        - Everyday dataviz<br>\n",
    "        - Idea generation<br>\n",
    "        - Visual discovery\n",
    "    <li><strong>What are the two categories of data discovery visualization type?</strong></li>\n",
    "        - Visual confirmation<br>\n",
    "        - Visual exploration\n",
    "    <li><strong>In which categorie the manager is most likely to call in experts to help create the visualizations?</strong></li>\n",
    "        Visual exploration.\n",
    "    <li><strong>What is the difference, related to output, between declarative and exploratory visualizations?</strong></li>\n",
    "        Declarative visualizations are focused on the output i.e. creating visuals, whereas exploratory visualizations is focused more in generating ideas and learn, i.e. worry less about visualizations.\n",
    "</ol>"
   ]
  },
  {
   "cell_type": "markdown",
   "metadata": {},
   "source": [
    "### Chapter 4: Better charts in a couple of hours"
   ]
  },
  {
   "cell_type": "markdown",
   "metadata": {},
   "source": [
    "<ol>\n",
    "    <li><strong>What elements cross the Good Charts matrix as positive combination?</strong></li>\n",
    "        Design execution with context setting.\n",
    "    <li><strong>What are the common tasks at building charts?</strong></li>\n",
    "        Prep, talk and listen, sketch, and prototype.\n",
    "    <li><strong>What are the three kinds of space that we need to create in the prep task?</strong></li>\n",
    "        Mental space, physical space, white space.\n",
    "    <li><strong>What tool is useful when we are at the sketching task?</strong></li>\n",
    "        A chart cheet sheet.\n",
    "    <li><strong>What categories exists in prototyping?</strong></li>\n",
    "        Paper, digital, and paired.\n",
    "</ol>"
   ]
  },
  {
   "cell_type": "markdown",
   "metadata": {},
   "source": [
    "## Part 3: Refine"
   ]
  },
  {
   "cell_type": "markdown",
   "metadata": {},
   "source": [
    "### Chapter 5: Refine to impress: Getting to the \"feeling behind our eyes\""
   ]
  },
  {
   "cell_type": "markdown",
   "metadata": {},
   "source": [
    "<ol>\n",
    "    <li><strong>What is the basic structure of every chart?</strong></li>\n",
    "        Title, subtitle, visual field (visuals, axes, labels, captions, legend), and source line.\n",
    "    <li><strong>What is the weight of placement for the elements of the basic structure in the chart?</strong></li>\n",
    "        Title: 12% <br>\n",
    "        Subtitle: 8% <br>\n",
    "        Field: 75% <br>\n",
    "        Source line: 5%\n",
    "    <li><strong>What is the path to simplicity?</strong></li>\n",
    "        Remove unnecessary things from the chart, leaving only what is valuable to communicating your message?\n",
    "    <li><strong>What is the goal of a good chart design?</strong></li>\n",
    "        To make them more effective and easier to understand; self-explanatory.\n",
    "    <li><strong>How do we achieve the sense of good design in our charts?</strong></li>\n",
    "        Focusing on design structure and hierarchy, design clarity, and design simplicity.\n",
    "</ol>"
   ]
  },
  {
   "cell_type": "markdown",
   "metadata": {},
   "source": [
    "### Chapter 6: Refine to persuade: Three steps to more-persuasive charts"
   ]
  },
  {
   "cell_type": "markdown",
   "metadata": {},
   "source": [
    "<ol>\n",
    "    <li><strong>What are the strategies we use to influence behavior or thinking defined in persuasion science?</strong></li>\n",
    "        Economic, social, and environmental.\n",
    "    <li><strong></strong></li>\n",
    "    <li><strong></strong></li>\n",
    "    <li><strong></strong></li>\n",
    "    <li><strong></strong></li>\n",
    "    <li><strong></strong></li>\n",
    "</ol>"
   ]
  },
  {
   "cell_type": "markdown",
   "metadata": {},
   "source": [
    "### Chapter 7: Persuation or Manipulation?: The blurred edge of truth"
   ]
  },
  {
   "cell_type": "markdown",
   "metadata": {},
   "source": [
    "<ol>\n",
    "    <li><strong></strong></li>\n",
    "    <li><strong></strong></li>\n",
    "    <li><strong></strong></li>\n",
    "    <li><strong></strong></li>\n",
    "    <li><strong></strong></li>\n",
    "    <li><strong></strong></li>\n",
    "</ol>"
   ]
  },
  {
   "cell_type": "code",
   "execution_count": null,
   "metadata": {},
   "outputs": [],
   "source": []
  }
 ],
 "metadata": {
  "kernelspec": {
   "display_name": "Python 3",
   "language": "python",
   "name": "python3"
  },
  "language_info": {
   "codemirror_mode": {
    "name": "ipython",
    "version": 3
   },
   "file_extension": ".py",
   "mimetype": "text/x-python",
   "name": "python",
   "nbconvert_exporter": "python",
   "pygments_lexer": "ipython3",
   "version": "3.8.1"
  }
 },
 "nbformat": 4,
 "nbformat_minor": 4
}
